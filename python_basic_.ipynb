{
  "nbformat": 4,
  "nbformat_minor": 0,
  "metadata": {
    "colab": {
      "provenance": []
    },
    "kernelspec": {
      "name": "python3",
      "display_name": "Python 3"
    },
    "language_info": {
      "name": "python"
    }
  },
  "cells": [
    {
      "cell_type": "code",
      "execution_count": null,
      "metadata": {
        "id": "GAx6rMP5uvZC"
      },
      "outputs": [],
      "source": [
        "python basic questions:-"
      ]
    },
    {
      "cell_type": "markdown",
      "source": [
        "1.  What is Python, and why is it popular?\n",
        "\n",
        "ans- Python is a programming language that is easy to understand and write.\n",
        "it a popular choice among developers and programmers because,\n",
        "it is compatible with various programming paradigms, such as procedural, object-oriented, and functional programming.\n",
        "Python has a large and active community of developers, an extensive standard library, and third-party packages for various domains.\n",
        "\n"
      ],
      "metadata": {
        "id": "O-Pzg2fdvUhi"
      }
    },
    {
      "cell_type": "markdown",
      "metadata": {
        "id": "8ad61a45"
      },
      "source": [
        "2. What is an interpreter in Python?\n",
        "\n",
        "ans- An interpreter in Python is a program that directly executes code, line by line, without compiling it first. It reads the code, translates it into machine code, and runs it immediately. This makes Python a flexible and easy-to-use language."
      ]
    },
    {
      "cell_type": "markdown",
      "source": [
        "3.  What are pre-defined keywords in Python?\n",
        "\n",
        "ans- keywords are reserved words in Python that have special meanings and cannot be used as identifiers (variable names, function names, etc.).\n",
        "Examples of keywords are if, else, while, for, def, class, import, try, except, return, True, False, None, etc.\n",
        "Keywords are case-sensitive and cannot be redefined or overridden within a Python program.\n"
      ],
      "metadata": {
        "id": "c_wLXHOOwTV-"
      }
    },
    {
      "cell_type": "markdown",
      "source": [
        "4.  Can keywords be used as variable name?\n",
        "\n",
        "ans- No, keywords cannot be used as variable names in Python because they have special meanings."
      ],
      "metadata": {
        "id": "J1Vsb42LwpEH"
      }
    },
    {
      "cell_type": "markdown",
      "source": [
        "5.  What is mutability in Python?\n",
        "\n",
        "ans- Mutability means which can be modified after creation.\n",
        " such as lists and dictionaries.\n",
        " Mutability affects how objects are stored and manipulated in memory, impacting performance, memory usage, and concurrency in Python programs.\n",
        "\n"
      ],
      "metadata": {
        "id": "k71daNlvxAhV"
      }
    },
    {
      "cell_type": "markdown",
      "source": [
        "6. Why are lists mutable, but tuples are immutable?\n",
        "\n",
        "ans- list is Mutable objects because it can be modified after creation, while tuples are immutable objects, as it cannot be change after creation."
      ],
      "metadata": {
        "id": "bjRbpA2syD5D"
      }
    },
    {
      "cell_type": "markdown",
      "source": [
        "7.  What is the difference between “==” and “is” operators in Python?\n",
        "\n",
        "ans- The \"==\" operator checks for equality of value.\n",
        "while the \"is\" operator checks for identity (if two variables refer to the same object in memory)."
      ],
      "metadata": {
        "id": "QfYAszPNzeRb"
      }
    },
    {
      "cell_type": "markdown",
      "source": [
        "8. what are the logical operators in python?\n",
        "\n",
        "ans- Logical operators in Python are used to combine conditional statements. The logical operators are:-  and, or, and not.\n"
      ],
      "metadata": {
        "id": "u2PrJNAs02Q9"
      }
    },
    {
      "cell_type": "markdown",
      "source": [
        "9.  What is type casting in Python?\n",
        "\n",
        "ans- Type casting, is also known as type conversion, it is the process of changing one data type to another in Python.\n",
        "Python provides built-in functions for type casting, such as int(), float(), str(), list(), tuple(), dict(), etc.\n",
        "Type casting is often necessary for performing arithmetic operations, data manipulation, and input/output operations in Python programs."
      ],
      "metadata": {
        "id": "isxO6b961LvO"
      }
    },
    {
      "cell_type": "markdown",
      "source": [
        "10.  What is the difference between implicit and explicit type casting?\n",
        "\n",
        "ans-  implicit and explicit type casting is also known as type conversion it is the process of changing one data type implicit casting happens automatically when a smaller data type is converted to a large one, without the programmer needs to specify it.\n",
        "\n",
        "explict casting requires the programmer to explicitly state the desired data type conversion which may involve potential data loss."
      ],
      "metadata": {
        "id": "v-m_jKol1fhJ"
      }
    },
    {
      "cell_type": "markdown",
      "source": [
        "11.  What is the purpose of conditional statements in Python?\n",
        "\n",
        "ans- Conditionals statement in Python are used to execute code based on the evaluation of one or more conditions.\n",
        "Python supports conditional statements such as if, elif (else if), and else to control the flow of execution.\n",
        "Conditionals can be nested to handle multiple conditions and control different branches of execution based on the outcome of logical expressions.\n"
      ],
      "metadata": {
        "id": "Nl9gfqqG26h-"
      }
    },
    {
      "cell_type": "markdown",
      "source": [
        "12.  How does the elif statement work?\n",
        "\n",
        "ans- The elif statement is used to check multiple conditions after an initial if statement. It stands for \"else if\". If the if condition is false, Python checks the elif condition, and if that is also false, it moves on to the next elif."
      ],
      "metadata": {
        "id": "9PK3FkHf3Ij_"
      }
    },
    {
      "cell_type": "markdown",
      "source": [
        "13.  What is the difference between for and while loops?\n",
        "\n",
        "ans- “for” loops are used for iterating over a sequence of elements,\n",
        "while “while” loops are used for executing code until a specified condition becomes False.\n"
      ],
      "metadata": {
        "id": "lNdW7-zV3qE3"
      }
    },
    {
      "cell_type": "markdown",
      "source": [
        "14. Describe a scenario where a while loop is more suitable than a for loop?\n",
        "\n",
        "ans- A while loop is often more suitable than a for loop when the number of iterations is not known beforehand and the loop should continue based on a condition. A common scenario is when you need to keep performing an action until a certain condition is met, like reading data from a file until the end is reached, or waiting for user input.\n"
      ],
      "metadata": {
        "id": "uzq6iK8N4Bil"
      }
    },
    {
      "cell_type": "markdown",
      "source": [
        "pratical question:-"
      ],
      "metadata": {
        "id": "2kCJAlRQ4Y4z"
      }
    },
    {
      "cell_type": "markdown",
      "source": [
        "1.  Write a Python program to print \"Hello, World!\"\n"
      ],
      "metadata": {
        "id": "oRVRICWT4bxJ"
      }
    },
    {
      "cell_type": "code",
      "source": [
        "print(\"Hello, World!\")"
      ],
      "metadata": {
        "colab": {
          "base_uri": "https://localhost:8080/"
        },
        "id": "v0g5m2su4slA",
        "outputId": "3dd802f1-66f3-4a4b-afb5-e3bfaed76310"
      },
      "execution_count": 1,
      "outputs": [
        {
          "output_type": "stream",
          "name": "stdout",
          "text": [
            "Hello, World!\n"
          ]
        }
      ]
    },
    {
      "cell_type": "markdown",
      "source": [
        "2. Write a Python program that displays your name and age?"
      ],
      "metadata": {
        "id": "VtcpsxZJ41Tn"
      }
    },
    {
      "cell_type": "code",
      "metadata": {
        "colab": {
          "base_uri": "https://localhost:8080/"
        },
        "id": "3d224372",
        "outputId": "6274edd9-e543-4423-ad98-3e8c18a9bfdc"
      },
      "source": [
        "name= \"simran\"\n",
        "age= 27\n",
        "print(\"my name is:\",name)\n",
        "print(\"my age is:\", age)\n",
        "\n"
      ],
      "execution_count": 5,
      "outputs": [
        {
          "output_type": "stream",
          "name": "stdout",
          "text": [
            "my name is: simran\n",
            "my age is: 27\n"
          ]
        }
      ]
    },
    {
      "cell_type": "markdown",
      "source": [
        "3.  Write code to print all the pre-defined keywords in Python using the keyword library?"
      ],
      "metadata": {
        "id": "4uDTF1J_6WER"
      }
    },
    {
      "cell_type": "code",
      "source": [
        "print(\"List of Python keywords:\")\n",
        "print(keyword.kwlist)"
      ],
      "metadata": {
        "colab": {
          "base_uri": "https://localhost:8080/"
        },
        "id": "h9PEemVp8OXb",
        "outputId": "07ecc394-a93c-4643-8889-576ff85c1633"
      },
      "execution_count": 9,
      "outputs": [
        {
          "output_type": "stream",
          "name": "stdout",
          "text": [
            "List of Python keywords:\n",
            "['False', 'None', 'True', 'and', 'as', 'assert', 'async', 'await', 'break', 'class', 'continue', 'def', 'del', 'elif', 'else', 'except', 'finally', 'for', 'from', 'global', 'if', 'import', 'in', 'is', 'lambda', 'nonlocal', 'not', 'or', 'pass', 'raise', 'return', 'try', 'while', 'with', 'yield']\n"
          ]
        }
      ]
    },
    {
      "cell_type": "markdown",
      "source": [
        "4. Write a program that checks if a given word is a Python keyword?"
      ],
      "metadata": {
        "id": "5T3jF3xG8T5-"
      }
    },
    {
      "cell_type": "code",
      "source": [],
      "metadata": {
        "id": "6lUnJaax8ZjT"
      },
      "execution_count": null,
      "outputs": []
    },
    {
      "cell_type": "markdown",
      "source": [
        "5. Create a list and tuple in Python, and demonstrate how attempting to change an element works differently for each?\n",
        "\n"
      ],
      "metadata": {
        "id": "P1sSW6M28anO"
      }
    },
    {
      "cell_type": "code",
      "source": [
        "l = [10,20,30,40,50,60,70,80,90,100]\n",
        "print(l)\n",
        "print(type(l))\n",
        "print(l[0])\n",
        "l[0]= \"20\"\n",
        "print(l)\n",
        "\n",
        "t= (10,20,30,40,50,60,70,80,90,100)\n",
        "print(t)\n",
        "print(type(t))\n",
        "print(t[0 ])\n",
        "t[0]= \"20\"\n",
        "print(t)\n",
        "\n"
      ],
      "metadata": {
        "colab": {
          "base_uri": "https://localhost:8080/",
          "height": 346
        },
        "id": "YQUt7s-b9jnT",
        "outputId": "19c67822-8a29-4c08-e494-9ffc36358697"
      },
      "execution_count": 19,
      "outputs": [
        {
          "output_type": "stream",
          "name": "stdout",
          "text": [
            "[10, 20, 30, 40, 50, 60, 70, 80, 90, 100]\n",
            "<class 'list'>\n",
            "10\n",
            "['20', 20, 30, 40, 50, 60, 70, 80, 90, 100]\n",
            "(10, 20, 30, 40, 50, 60, 70, 80, 90, 100)\n",
            "<class 'tuple'>\n",
            "10\n"
          ]
        },
        {
          "output_type": "error",
          "ename": "TypeError",
          "evalue": "'tuple' object does not support item assignment",
          "traceback": [
            "\u001b[0;31m---------------------------------------------------------------------------\u001b[0m",
            "\u001b[0;31mTypeError\u001b[0m                                 Traceback (most recent call last)",
            "\u001b[0;32m/tmp/ipython-input-936634374.py\u001b[0m in \u001b[0;36m<cell line: 0>\u001b[0;34m()\u001b[0m\n\u001b[1;32m     10\u001b[0m \u001b[0mprint\u001b[0m\u001b[0;34m(\u001b[0m\u001b[0mtype\u001b[0m\u001b[0;34m(\u001b[0m\u001b[0mt\u001b[0m\u001b[0;34m)\u001b[0m\u001b[0;34m)\u001b[0m\u001b[0;34m\u001b[0m\u001b[0;34m\u001b[0m\u001b[0m\n\u001b[1;32m     11\u001b[0m \u001b[0mprint\u001b[0m\u001b[0;34m(\u001b[0m\u001b[0mt\u001b[0m\u001b[0;34m[\u001b[0m\u001b[0;36m0\u001b[0m \u001b[0;34m]\u001b[0m\u001b[0;34m)\u001b[0m\u001b[0;34m\u001b[0m\u001b[0;34m\u001b[0m\u001b[0m\n\u001b[0;32m---> 12\u001b[0;31m \u001b[0mt\u001b[0m\u001b[0;34m[\u001b[0m\u001b[0;36m0\u001b[0m\u001b[0;34m]\u001b[0m\u001b[0;34m=\u001b[0m \u001b[0;34m\"20\"\u001b[0m\u001b[0;34m\u001b[0m\u001b[0;34m\u001b[0m\u001b[0m\n\u001b[0m\u001b[1;32m     13\u001b[0m \u001b[0mprint\u001b[0m\u001b[0;34m(\u001b[0m\u001b[0mt\u001b[0m\u001b[0;34m)\u001b[0m\u001b[0;34m\u001b[0m\u001b[0;34m\u001b[0m\u001b[0m\n\u001b[1;32m     14\u001b[0m \u001b[0;34m\u001b[0m\u001b[0m\n",
            "\u001b[0;31mTypeError\u001b[0m: 'tuple' object does not support item assignment"
          ]
        }
      ]
    },
    {
      "cell_type": "markdown",
      "source": [
        "6. Write a function to demonstrate the behavior of mutable and immutable arguments."
      ],
      "metadata": {
        "id": "fGSV0XrK9kSQ"
      }
    },
    {
      "cell_type": "code",
      "source": [
        "#mutable:-\n",
        "list_count = [1, 2, 3, 4.3, 3+5j, True, \"Ajay\" ]\n",
        "print(list_count)\n",
        "list_count[6]= \"vijay\"\n",
        "print(list_count)\n",
        "\n"
      ],
      "metadata": {
        "colab": {
          "base_uri": "https://localhost:8080/"
        },
        "id": "_7yBLL1a9lX9",
        "outputId": "82b9ed9d-8838-4128-f7d0-357b8527aa97"
      },
      "execution_count": 25,
      "outputs": [
        {
          "output_type": "stream",
          "name": "stdout",
          "text": [
            "[1, 2, 3, 4.3, (3+5j), True, 'Ajay']\n",
            "[1, 2, 3, 4.3, (3+5j), True, 'vijay']\n"
          ]
        }
      ]
    },
    {
      "cell_type": "markdown",
      "source": [
        "7.  Write a program that performs basic arithmetic operations on two user-input numbers."
      ],
      "metadata": {
        "id": "PTPdDX5D9mJa"
      }
    },
    {
      "cell_type": "code",
      "source": [
        "a= 10\n",
        "b= 3\n",
        "print(a+b)\n",
        "print(a-b)\n",
        "print(a*b)\n",
        "print(a/b)\n",
        "print(a//b)\n",
        "print(a%b)\n",
        "print(a**b)"
      ],
      "metadata": {
        "colab": {
          "base_uri": "https://localhost:8080/"
        },
        "id": "2yrzJiIx9qXg",
        "outputId": "2085d1e1-f79b-4d6e-917a-ba04e97d7c7f"
      },
      "execution_count": 10,
      "outputs": [
        {
          "output_type": "stream",
          "name": "stdout",
          "text": [
            "13\n",
            "7\n",
            "30\n",
            "3.3333333333333335\n",
            "3\n",
            "1\n",
            "1000\n"
          ]
        }
      ]
    },
    {
      "cell_type": "markdown",
      "source": [
        "8. Write a program to demonstrate the use of logical operators.\n"
      ],
      "metadata": {
        "id": "89g8wCTeEYjx"
      }
    },
    {
      "cell_type": "code",
      "source": [
        "a = 50\n",
        "b = 30\n",
        "print(not False)\n",
        "print(not(a>b))\n",
        "\n",
        "val1= False\n",
        "val2= False\n",
        "print(\"AND operator:\", val1 and val2)\n",
        "print(\"OR operator:\", val1 or val2)\n",
        "print(\"NOT operator:\", not val1)"
      ],
      "metadata": {
        "colab": {
          "base_uri": "https://localhost:8080/"
        },
        "id": "RL4HGFOBFGoD",
        "outputId": "1eea2c33-dc2f-498b-a326-ce15124fca4a"
      },
      "execution_count": 21,
      "outputs": [
        {
          "output_type": "stream",
          "name": "stdout",
          "text": [
            "True\n",
            "False\n",
            "AND operator: False\n",
            "OR operator: False\n",
            "NOT operator: True\n"
          ]
        }
      ]
    },
    {
      "cell_type": "markdown",
      "source": [
        "9. Write a Python program to convert user input from string to integer, float, and boolean types."
      ],
      "metadata": {
        "id": "Ft0rEe2WHtPd"
      }
    },
    {
      "cell_type": "code",
      "source": [
        "name=\"simran\"\n",
        "age= 27\n",
        "old= False\n",
        "a= 7.4\n",
        "print(type(name))\n",
        "print(type(age))\n",
        "print(type(old))\n",
        "print(type(a))"
      ],
      "metadata": {
        "colab": {
          "base_uri": "https://localhost:8080/"
        },
        "id": "lh-PtoWHIajx",
        "outputId": "c3cd31c5-6c19-4d34-815e-d616467e84af"
      },
      "execution_count": 30,
      "outputs": [
        {
          "output_type": "stream",
          "name": "stdout",
          "text": [
            "<class 'str'>\n",
            "<class 'int'>\n",
            "<class 'bool'>\n",
            "<class 'float'>\n"
          ]
        }
      ]
    },
    {
      "cell_type": "markdown",
      "source": [
        "10.  Write code to demonstrate type casting with list elements."
      ],
      "metadata": {
        "id": "5c03G0APJaBx"
      }
    },
    {
      "cell_type": "code",
      "source": [
        "a= [1,4,9,10, 19]\n",
        "b= [[5,6,8]], [8,5,3], [9,10,3]\n",
        "c= [str(x) for x in a]\n",
        "d= [[str(x)for x in sub]for sub in b]\n",
        "print(c)\n",
        "print(d)"
      ],
      "metadata": {
        "colab": {
          "base_uri": "https://localhost:8080/"
        },
        "id": "tJ0As34qJ-al",
        "outputId": "c2424fc4-1c4e-4387-b694-2a70a35049b1"
      },
      "execution_count": 32,
      "outputs": [
        {
          "output_type": "stream",
          "name": "stdout",
          "text": [
            "['1', '4', '9', '10', '19']\n",
            "[['[5, 6, 8]'], ['8', '5', '3'], ['9', '10', '3']]\n"
          ]
        }
      ]
    },
    {
      "cell_type": "markdown",
      "source": [
        "11.Write a program that checks if a number is positive, negative, or zero"
      ],
      "metadata": {
        "id": "0dlR-WG7Kn96"
      }
    },
    {
      "cell_type": "code",
      "source": [],
      "metadata": {
        "id": "E_tRwCKqLlEb"
      },
      "execution_count": null,
      "outputs": []
    },
    {
      "cell_type": "markdown",
      "source": [
        "12. Write a for loop to print numbers from 1 to 10"
      ],
      "metadata": {
        "id": "gAhYyxFjLlYc"
      }
    },
    {
      "cell_type": "code",
      "source": [
        "for i in range(1, 11):\n",
        "  print(i)"
      ],
      "metadata": {
        "colab": {
          "base_uri": "https://localhost:8080/"
        },
        "id": "dn1Vl03PLo_j",
        "outputId": "6f094493-70ce-41b1-c183-c3458f18ab95"
      },
      "execution_count": 40,
      "outputs": [
        {
          "output_type": "stream",
          "name": "stdout",
          "text": [
            "1\n",
            "2\n",
            "3\n",
            "4\n",
            "5\n",
            "6\n",
            "7\n",
            "8\n",
            "9\n",
            "10\n"
          ]
        }
      ]
    },
    {
      "cell_type": "markdown",
      "source": [
        "13.  Write a Python program to find the sum of all even numbers between 1 and 50"
      ],
      "metadata": {
        "id": "BRLQQAlMLvuB"
      }
    },
    {
      "cell_type": "code",
      "source": [
        "print(\"even numbers between 1 to 50 are.....\")\n",
        "for i in range(1,51):\n",
        "  if i%2==0:\n",
        "    print(i)"
      ],
      "metadata": {
        "colab": {
          "base_uri": "https://localhost:8080/"
        },
        "id": "JvH87usfMMfq",
        "outputId": "5c4e644d-0e95-4b97-8b4c-d01fe6231d93"
      },
      "execution_count": 45,
      "outputs": [
        {
          "output_type": "stream",
          "name": "stdout",
          "text": [
            "even numbers between 1 to 50 are.....\n",
            "2\n",
            "4\n",
            "6\n",
            "8\n",
            "10\n",
            "12\n",
            "14\n",
            "16\n",
            "18\n",
            "20\n",
            "22\n",
            "24\n",
            "26\n",
            "28\n",
            "30\n",
            "32\n",
            "34\n",
            "36\n",
            "38\n",
            "40\n",
            "42\n",
            "44\n",
            "46\n",
            "48\n",
            "50\n"
          ]
        }
      ]
    },
    {
      "cell_type": "markdown",
      "source": [
        "14. Write a program to reverse a string using a while loop."
      ],
      "metadata": {
        "id": "m0MtjduhMk-r"
      }
    },
    {
      "cell_type": "code",
      "source": [
        "i = 10\n",
        "while i>=1:\n",
        "  print(i)\n",
        "  i -=1"
      ],
      "metadata": {
        "colab": {
          "base_uri": "https://localhost:8080/"
        },
        "id": "SsRK23X-MphM",
        "outputId": "dbdc953b-d83a-4410-feac-8bb0c443156a"
      },
      "execution_count": 44,
      "outputs": [
        {
          "output_type": "stream",
          "name": "stdout",
          "text": [
            "10\n",
            "9\n",
            "8\n",
            "7\n",
            "6\n",
            "5\n",
            "4\n",
            "3\n",
            "2\n",
            "1\n"
          ]
        }
      ]
    },
    {
      "cell_type": "markdown",
      "source": [
        "15. Write a Python program to calculate the factorial of a number provided by the user using a while loop."
      ],
      "metadata": {
        "id": "WfszjzeMPdBG"
      }
    },
    {
      "cell_type": "code",
      "source": [
        "n = int(input(\"Enter a number: \"))\n",
        "fact = 1\n",
        "i = 1\n",
        "while i <= n:\n",
        "  fact *= i\n",
        "  i += 1\n",
        "print(f\"The factorial of {n} is {fact}\")"
      ],
      "metadata": {
        "colab": {
          "base_uri": "https://localhost:8080/"
        },
        "id": "HMw_KrJ5Pwh2",
        "outputId": "3327fe46-ee85-44c6-b18c-42b02c863365"
      },
      "execution_count": 49,
      "outputs": [
        {
          "output_type": "stream",
          "name": "stdout",
          "text": [
            "Enter a number: 12\n",
            "The factorial of 12 is 479001600\n"
          ]
        }
      ]
    }
  ]
}